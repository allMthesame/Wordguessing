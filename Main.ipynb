{
 "cells": [
  {
   "cell_type": "code",
   "execution_count": 1,
   "id": "ea19505c-830c-4e0e-936c-d98b146a3349",
   "metadata": {},
   "outputs": [
    {
     "name": "stdout",
     "output_type": "stream",
     "text": [
      "pygame 2.6.1 (SDL 2.28.4, Python 3.12.7)\n",
      "Hello from the pygame community. https://www.pygame.org/contribute.html\n",
      "JUEGO DE ADIVINACIÓN DE PALABRAS - UCM - MÓDULO: PYTHON BÁSICO - CLASE 3 - Creado por: Marco Pacora Chávez\n",
      "\n",
      "DISCLAIMER: Este proyecto educativo utiliza música de Earthbound, propiedad de Nintendo, con fines académicos y sin ánimo de lucro.\n",
      "No se pretende infringir los derechos de autor; todos los derechos pertenecen a sus respectivos titulares.\n",
      "\n",
      "MENÚ PRINCIPAL\n",
      "\n",
      "Escoge una opción de juego:\n",
      "1. Partida modo solitario\n",
      "2. Partida 2 jugadores\n",
      "3. Estadística\n",
      "4. Salir\n",
      "\n"
     ]
    },
    {
     "name": "stdin",
     "output_type": "stream",
     "text": [
      "Escoja una opción:  3\n"
     ]
    },
    {
     "name": "stdout",
     "output_type": "stream",
     "text": [
      "\n",
      "Ecoja una opción de estadística:\n",
      "1. Estadística general (modo solitario)\n",
      "2. Estadísticas por nombre (modo solitario)\n",
      "3. Estadística general (modo 2 jugadores)\n",
      "4. Salir al menu\n"
     ]
    },
    {
     "name": "stdin",
     "output_type": "stream",
     "text": [
      "Escoja una opción de estadística:  3\n"
     ]
    },
    {
     "name": "stdout",
     "output_type": "stream",
     "text": [
      "\n",
      "\n"
     ]
    },
    {
     "data": {
      "image/png": "[encoded data removed]",
      "text/plain": [
       "<Figure size 600x400 with 1 Axes>"
      ]
     },
     "metadata": {},
     "output_type": "display_data"
    },
    {
     "name": "stdout",
     "output_type": "stream",
     "text": [
      "MENÚ PRINCIPAL\n",
      "\n",
      "Escoge una opción de juego:\n",
      "1. Partida modo solitario\n",
      "2. Partida 2 jugadores\n",
      "3. Estadística\n",
      "4. Salir\n",
      "\n"
     ]
    },
    {
     "name": "stdin",
     "output_type": "stream",
     "text": [
      "Escoja una opción:  4\n"
     ]
    },
    {
     "name": "stdout",
     "output_type": "stream",
     "text": [
      "\n"
     ]
    }
   ],
   "source": [
    "# Se importa la librería random para generar números aleatores en la opción de 1 jugador\n",
    "import random\n",
    "# Se importa getpass para poder tener inputs ocultos para la opción de 2 jugadores\n",
    "from getpass import getpass\n",
    "# Se importa la biblioteca para registrar los datos de las partidas en un fichero excel\n",
    "import openpyxl\n",
    "# Se importa la biblioteca pandas para procesar la información leída del excel para las estadísticas\n",
    "import pandas as pd\n",
    "# Importamos pyplot de matplotlib para generar los gráficos en la opción '3. Estadísticas'\n",
    "import matplotlib.pyplot as plt\n",
    "# Se utiliza la librería pygame para agregar sonidos al juego\n",
    "import pygame\n",
    "# Trae la libreria propia con las funciones que creamos\n",
    "import modulo as mlib\n",
    "\n",
    "\n",
    "#----------------------------------------------------------PROGRAMA PRINCIPAL----------------------------------------------------------------------------\n",
    "\n",
    "# n será el valor para escoger las opciones del menú. Hacemos n=0 para iniciar dicha variable en un valor válido\n",
    "n=0\n",
    "\n",
    "sonido_victoria, sonido_perdida = mlib.cargar_musica_y_sonidos(pygame)\n",
    "\n",
    "#Se carga el fichero de excel con el que vamos a trabajar\n",
    "excel = openpyxl.load_workbook('Resultados_juego.xlsx')\n",
    "#Asignamos las hojas del fichero a una variable cada una\n",
    "Hoja1=excel['1 JG']\n",
    "Hoja2=excel['2 JG']\n",
    "\n",
    "#Se inicia un while que rige todo el programa, el cuál se detendrá en cuanto el usuario decida escoger la opción de salida\n",
    "print(\"JUEGO DE ADIVINACIÓN DE PALABRAS - UCM - MÓDULO: PYTHON BÁSICO - CLASE 3 - Creado por: Marco Pacora Chávez\\n\")\n",
    "print(\"DISCLAIMER: Este proyecto educativo utiliza música de Earthbound, propiedad de Nintendo, con fines académicos y sin ánimo de lucro.\\nNo se pretende infringir los derechos de autor; todos los derechos pertenecen a sus respectivos titulares.\\n\")\n",
    "\n",
    "#Advertencia: de aparecer un error y la música se encuentre en loop, reiniciar el kernel\n",
    "\n",
    "while (n!=4):\n",
    "    #La variable 'registro' se usará para almacenar temporalmente los datos de los resultados y en cada iteración se reiniciará para usarse de nuevo\n",
    "    registro=[]\n",
    "    #Hacemos n=0 en cada iteración del while principal para que cuando se termine una partida y regrese al menú, pida nuevamente al usuario una opción nueva\n",
    "    n=0\n",
    "    # Llamamos a la función que muestra el menú principal y que verifica que las opciones sean válidas\n",
    "    n=mlib.Menu_Principal(n)\n",
    "    #Cuando se escoja una opción válida, se evaluará qué escogió el jugador\n",
    "    if n==1:\n",
    "        p=0\n",
    "        #Llamamos a la función que muestr el menú de dificultad y verifica que sea una opción válida\n",
    "        p=mlib.Menu_Dificultad(p)\n",
    "        if p==1:\n",
    "            # Se entra en la lógica del juego y se guardan los resultados en 'registro'\n",
    "            registro = mlib.juego_1jugador(random,pygame,sonido_victoria,sonido_perdida,20)\n",
    "            # Se utiliza la función de registro en excel\n",
    "            mlib.registrar_excel(registro, excel, Hoja1, 'Fácil')\n",
    "        elif p==2:\n",
    "            registro = mlib.juego_1jugador(random,12)\n",
    "            mlib.registrar_excel(registro, excel, Hoja1, 'Medio')\n",
    "        elif p==3:\n",
    "            registro = mlib.juego_1jugador(random,5)\n",
    "            mlib.registrar_excel(registro, excel, Hoja1, 'Difícil')\n",
    "\n",
    "    if n==2:\n",
    "        p=0\n",
    "        p=mlib.Menu_Dificultad(p)\n",
    "        if p==1:\n",
    "            registro = mlib.juego_2jugadores(random,getpass,pygame,sonido_victoria,sonido_perdida,20)\n",
    "            mlib.registrar_excel(registro, excel, Hoja2, 'Fácil')\n",
    "        elif p==2:\n",
    "            registro = mlib.juego_2jugadores(random,getpass,pygame,sonido_victoria,sonido_perdida,12)\n",
    "            mlib.registrar_excel(registro, excel, Hoja2, 'Medio')\n",
    "        elif p==3:\n",
    "            registro = mlib.juego_2jugadores(random,getpass,pygame,sonido_victoria,sonido_perdida,5)\n",
    "            mlib.registrar_excel(registro, excel, Hoja2, 'Difícil')\n",
    "\n",
    "    if n==3:\n",
    "        q=0\n",
    "        q=mlib.Menu_estadisticas(q)\n",
    "        if q==1:\n",
    "            mlib.estadistica(pd,plt)\n",
    "        if q==2:\n",
    "            mlib.estadistica_2(pd,plt)\n",
    "        if q==3:\n",
    "            mlib.estadistica_3(pd,plt)\n",
    "    if n==4:\n",
    "        #Detenemos la música antes de que el programa termine\n",
    "        pygame.mixer.music.stop()"
   ]
  },
  {
   "cell_type": "code",
   "execution_count": 6,
   "id": "ca1e0ba2-230d-4510-9180-069ab1810e90",
   "metadata": {},
   "outputs": [
    {
     "data": {
      "text/plain": [
       "[1, 2, 3]"
      ]
     },
     "execution_count": 6,
     "metadata": {},
     "output_type": "execute_result"
    }
   ],
   "source": [
    "[i + 1 for i in range(3)]"
   ]
  },
  {
   "cell_type": "code",
   "execution_count": null,
   "id": "1b4df337-8889-42ac-b6b4-702ab7de278b",
   "metadata": {},
   "outputs": [],
   "source": []
  }
 ],
 "metadata": {
  "kernelspec": {
   "display_name": "Python 3 (ipykernel)",
   "language": "python",
   "name": "python3"
  },
  "language_info": {
   "codemirror_mode": {
    "name": "ipython",
    "version": 3
   },
   "file_extension": ".py",
   "mimetype": "text/x-python",
   "name": "python",
   "nbconvert_exporter": "python",
   "pygments_lexer": "ipython3",
   "version": "3.12.7"
  }
 },
 "nbformat": 4,
 "nbformat_minor": 5
}
